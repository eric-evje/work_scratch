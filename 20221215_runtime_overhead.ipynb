{
 "cells": [
  {
   "cell_type": "code",
   "execution_count": null,
   "metadata": {},
   "outputs": [],
   "source": [
    "import os\n",
    "import pandas as pd\n",
    "import scipy\n",
    "import numpy as np\n",
    "import matplotlib.pyplot as plt\n",
    "import seaborn as sns\n",
    "sns.set()"
   ]
  },
  {
   "cell_type": "markdown",
   "metadata": {},
   "source": [
    "### Import csv"
   ]
  },
  {
   "cell_type": "code",
   "execution_count": null,
   "metadata": {},
   "outputs": [],
   "source": [
    "df = pd.read_csv(\"argus_info_output_fluidics.csv\")\n",
    "df['added'] = False"
   ]
  },
  {
   "cell_type": "code",
   "execution_count": null,
   "metadata": {},
   "outputs": [],
   "source": [
    "df.head()"
   ]
  },
  {
   "cell_type": "markdown",
   "metadata": {},
   "source": [
    "### Populate nested dictionary with times and subtasks of each higher level device task"
   ]
  },
  {
   "cell_type": "code",
   "execution_count": null,
   "metadata": {},
   "outputs": [],
   "source": [
    "# A recursive function to record and notate the lineage and times of a nested step within a fluidics step\n",
    "# Makes a new dict layer if it does not exist and populates with the data being passed to it\n",
    "\n",
    "def add_layer_to_dict(current_dict, lineage_array, lineage_time, lineage_added, lineage_sum_time):\n",
    "    # Pop from the first index position of dictionary to recusively ingest the entire data file\n",
    "    current_layer = lineage_array.pop(0)\n",
    "    current_time = lineage_time.pop(0)\n",
    "    current_added = lineage_added.pop(0)\n",
    "    current_sum_time = lineage_sum_time.pop(0)\n",
    "    \n",
    "    # Check if step exists at the current nested layer of the dictionary\n",
    "    # Append information if exists\n",
    "    if current_dict.get(current_layer) != None:\n",
    "        # Check if the specific row has already been added to the dictionary\n",
    "        if current_added == False:\n",
    "            current_dict[current_layer]['times'].append(current_time)\n",
    "            current_dict[current_layer]['sum_times'].append(current_sum_time)\n",
    "            \n",
    "    # If not, create that layer and append information\n",
    "    else:\n",
    "        current_dict[current_layer] = {'times': [], 'sum_times': [], 'substeps': {}}\n",
    "        current_dict[current_layer]['times'].append(current_time)\n",
    "        current_dict[current_layer]['sum_times'].append(current_sum_time)\n",
    "        \n",
    "    # While there are still layers in the dictionary, call the function again with the next layer down in the dict\n",
    "    if len(lineage_array) > 0:\n",
    "        add_layer_to_dict(current_dict[current_layer]['substeps'], lineage_array, lineage_time, lineage_added, lineage_sum_time)\n",
    "    else:\n",
    "        return"
   ]
  },
  {
   "cell_type": "code",
   "execution_count": null,
   "metadata": {},
   "outputs": [],
   "source": [
    "# Create empty dict\n",
    "top_level = {}\n",
    "\n",
    "# Iterate through main dataframe\n",
    "for i, row in enumerate(df.iterrows()):\n",
    "    row = row[1]\n",
    "    layer = row['layer']\n",
    "            \n",
    "    # Check if the current row is the end of a device task chain\n",
    "    if row['has_doughter'] == False:\n",
    "        step_type = row['type']\n",
    "        layer = row['layer']\n",
    "        lineage_array = []\n",
    "        lineage_time = []\n",
    "        lineage_sum_time = []\n",
    "        lineage_added = []\n",
    "        lineage_array.append(row['type'])\n",
    "        lineage_time.append(row['execution_time'])\n",
    "        lineage_sum_time.append(row['duration'] - row['incubation_duration'])\n",
    "        lineage_added.append(row['added'])\n",
    "        df.iloc[[i],[11]] = True\n",
    "        parent_row_iloc = int(row['parent'])\n",
    "        \n",
    "        # Ascend back up the device task chain until you rach the top level task\n",
    "        while layer != 0:\n",
    "            parent_type = df.iloc[parent_row_iloc]['type']\n",
    "            layer = df.iloc[parent_row_iloc]['layer']\n",
    "            exec_time = df.iloc[parent_row_iloc]['execution_time']\n",
    "            daughter_time = df.iloc[parent_row_iloc]['duration'] - df.iloc[parent_row_iloc]['incubation_duration']\n",
    "            added_state = df.iloc[parent_row_iloc]['added']\n",
    "            df.iloc[[parent_row_iloc],[11]] = True\n",
    "            try:\n",
    "                parent_row_iloc = int(df.iloc[parent_row_iloc]['parent'])\n",
    "            except ValueError:\n",
    "                pass #Reached a NaN from top layer\n",
    "            lineage_array.insert(0, parent_type)\n",
    "            lineage_time.insert(0, exec_time)\n",
    "            lineage_added.insert(0, added_state)\n",
    "            lineage_sum_time.insert(0, daughter_time)\n",
    "        \n",
    "        # Add the device task stack to the dictionary\n",
    "        add_layer_to_dict(top_level, lineage_array, lineage_time, lineage_added, lineage_sum_time)\n",
    "        \n",
    "top_level_nested = {'times': [0], 'sum_times': [0], 'substeps': top_level}\n",
    "# Reset the dataframe column to false to allow the block to be rerun without error\n",
    "df['added'] = False"
   ]
  },
  {
   "cell_type": "code",
   "execution_count": null,
   "metadata": {},
   "outputs": [],
   "source": [
    "# Function to determin statistics for each layer of the nested dictionary\n",
    "def nested_dict_pairs_iterator(current_dict):\n",
    "    try:\n",
    "        current_dict['stats'] = []\n",
    "    except TypeError:\n",
    "#         print(\"hit the type error\")\n",
    "        return\n",
    "    \n",
    "    keys = current_dict.keys()\n",
    "    \n",
    "    # Check if the current layer contains a substepd dict. If not, it is the top level and must be treated differently\n",
    "    if 'substeps' in keys:\n",
    "        current_dict['stats'].append(np.mean(current_dict['times'])) # step time mean\n",
    "        current_dict['stats'].append(np.std(current_dict['times'])) # step time std\n",
    "        current_dict['stats'].append(np.mean(current_dict['sum_times'])) # aggregate time mean\n",
    "        current_dict['stats'].append(np.std(current_dict['sum_times'])) # aggregate time std\n",
    "        current_dict['stats'].append(len(current_dict['times'])) # Number of times completed in run\n",
    "\n",
    "        keys = current_dict['substeps'].keys()\n",
    "    \n",
    "        if keys:\n",
    "            for key in keys:\n",
    "                nested_dict_pairs_iterator(current_dict['substeps'][key])\n",
    "        else:\n",
    "            return\n",
    "    else:\n",
    "        if keys:\n",
    "            for key in keys:\n",
    "                nested_dict_pairs_iterator(current_dict[key])\n",
    "        else:\n",
    "            return\n",
    "        \n",
    "# Call function on top_level dict\n",
    "nested_dict_pairs_iterator(top_level)\n",
    "nested_dict_pairs_iterator(top_level_nested)\n",
    "del top_level_nested['substeps']['stats']"
   ]
  },
  {
   "cell_type": "markdown",
   "metadata": {},
   "source": [
    "### Plotting"
   ]
  },
  {
   "cell_type": "code",
   "execution_count": null,
   "metadata": {},
   "outputs": [],
   "source": [
    "# Function to plot the high level historgram of the top layer of the dictionary\n",
    "# as well as a scatter plot with error bars of the next layer of subtasks\n",
    "# which comprise the top layer task\n",
    "\n",
    "def plot_times(plot_dict, title=''):\n",
    "    mean_times = []\n",
    "    std_times = []\n",
    "    mean_sum_times = []\n",
    "    std_sum_times = []\n",
    "    num_times = []\n",
    "    steps = []\n",
    "\n",
    "    for key in list(plot_dict['substeps'].keys()):\n",
    "        stats = plot_dict['substeps'][key]['stats']\n",
    "        steps.append(key)\n",
    "        mean_times.append(stats[0])\n",
    "        std_times.append(1.96*stats[1])\n",
    "        mean_sum_times.append(stats[2])\n",
    "        std_sum_times.append(1.96*stats[3])\n",
    "        num_times.append(stats[4])\n",
    "        \n",
    "        \n",
    "    if plot_dict['stats'][0] > 1:\n",
    "        steps.append('wait_s')\n",
    "        mean_times.append(plot_dict['stats'][0])\n",
    "        std_times.append(plot_dict['stats'][1])\n",
    "        mean_sum_times.append(plot_dict['stats'][0])\n",
    "        std_sum_times.append(plot_dict['stats'][1])\n",
    "        num_times.append(plot_dict['stats'][4])\n",
    "\n",
    "    print(plot_dict['stats'])\n",
    "    print(steps)\n",
    "    print(list(zip(steps, num_times)))\n",
    "\n",
    "    fig, ax = plt.subplots(figsize=(10,6))\n",
    "    ax.hist(plot_dict['sum_times'])\n",
    "    ax.set(title='Timing Distributions for {}'.format(title))\n",
    "    plt.show()\n",
    "\n",
    "    fig, ax = plt.subplots(figsize=(10,6))\n",
    "    ax.scatter(steps, mean_sum_times)\n",
    "    ax.set(title='Average substep times and distribution for {}'.format(title), \n",
    "          xlabel='Substep', ylabel='Time (s)')\n",
    "    bottom, top = plt.ylim()\n",
    "    offset = top*0.05\n",
    "    for index in range(len(steps)):\n",
    "          ax.text(steps[index], mean_sum_times[index]+offset, \n",
    "                  \"{} times, \\n{} mins\".format(num_times[index], int((num_times[index] * mean_sum_times[index])/60)), \n",
    "                  size=12)\n",
    "    plt.errorbar(steps,mean_sum_times,yerr=std_sum_times, linestyle=\"None\")\n",
    "    plt.xticks(rotation = 45)\n",
    "    plt.show()"
   ]
  },
  {
   "cell_type": "markdown",
   "metadata": {},
   "source": [
    "### Plotting Scratch"
   ]
  },
  {
   "cell_type": "code",
   "execution_count": null,
   "metadata": {},
   "outputs": [],
   "source": [
    "plot_dict = top_level['HURWellExchange']['substeps']['HURDispense']\n",
    "plot_times(plot_dict, 'HURWellExchange')"
   ]
  },
  {
   "cell_type": "code",
   "execution_count": null,
   "metadata": {},
   "outputs": [],
   "source": [
    "plot_dict = top_level['HURWellExchange']['substeps']['HURDispense']['substeps']['WellExtract']\n",
    "plot_times(plot_dict, 'WellExtract')"
   ]
  },
  {
   "cell_type": "code",
   "execution_count": null,
   "metadata": {},
   "outputs": [],
   "source": [
    "plot_dict = top_level['HURWellExchange']['substeps']['HURDispense']['substeps']['WellExtract']['substeps']['AlignSipperTubeToWellExtractLocation']\n",
    "plot_times(plot_dict, 'WellExtract AlignSipperTube')"
   ]
  },
  {
   "cell_type": "code",
   "execution_count": null,
   "metadata": {},
   "outputs": [],
   "source": [
    "plot_dict = top_level['HURWellExchange']['substeps']['HURDispense']['substeps']['WellExtract']['substeps']['MachineVisionCorrection']\n",
    "plot_times(plot_dict, 'HURWellExchange WellExtract MachineVisionCorrection')"
   ]
  },
  {
   "cell_type": "code",
   "execution_count": null,
   "metadata": {},
   "outputs": [],
   "source": [
    "plot_dict = top_level['LURWellExchange_DryTimeOptimized']\n",
    "plot_times(plot_dict, 'LURWellExchange_DryTimeOptimized')"
   ]
  },
  {
   "cell_type": "code",
   "execution_count": null,
   "metadata": {},
   "outputs": [],
   "source": [
    "plot_dict = top_level['LURWellExchange_DryTimeOptimized']['substeps']['WellExtract']\n",
    "plot_times(plot_dict, 'LURWellExchange_DryTimeOptimized WellExtract')"
   ]
  },
  {
   "cell_type": "code",
   "execution_count": null,
   "metadata": {},
   "outputs": [],
   "source": [
    "plot_dict = top_level['LURWellExchange_DryTimeOptimized']['substeps']['LURDispenseAspiratedReagent']\n",
    "plot_times(plot_dict, 'LURWellExchange_DryTimeOptimized LURDispenseAspiratedReagent')"
   ]
  },
  {
   "cell_type": "code",
   "execution_count": null,
   "metadata": {},
   "outputs": [],
   "source": [
    "plot_dict = top_level_nested\n",
    "plot_times(plot_dict, 'Run')"
   ]
  },
  {
   "cell_type": "code",
   "execution_count": null,
   "metadata": {},
   "outputs": [],
   "source": [
    "plot_dict = top_level_nested['substeps']['CleanObjective']\n",
    "plot_times(plot_dict, 'Clean Objective')"
   ]
  },
  {
   "cell_type": "code",
   "execution_count": null,
   "metadata": {},
   "outputs": [],
   "source": [
    "plot_dict = top_level_nested['substeps']['CleanObjective']['substeps']['OWCExtract']\n",
    "plot_times(plot_dict, 'CleanObjective OWCExtract')"
   ]
  },
  {
   "cell_type": "code",
   "execution_count": null,
   "metadata": {},
   "outputs": [],
   "source": [
    "plot_dict = top_level_nested['substeps']['CleanObjective']['substeps']['OWCExtract']['substeps']['AlignSipperTubeToOWCWashReservoir']\n",
    "plot_times(plot_dict, 'CleanObjective OWCExtract')"
   ]
  },
  {
   "cell_type": "code",
   "execution_count": null,
   "metadata": {},
   "outputs": [],
   "source": []
  }
 ],
 "metadata": {
  "kernelspec": {
   "display_name": "Python 3",
   "language": "python",
   "name": "python3"
  },
  "language_info": {
   "codemirror_mode": {
    "name": "ipython",
    "version": 3
   },
   "file_extension": ".py",
   "mimetype": "text/x-python",
   "name": "python",
   "nbconvert_exporter": "python",
   "pygments_lexer": "ipython3",
   "version": "3.8.5"
  }
 },
 "nbformat": 4,
 "nbformat_minor": 4
}
